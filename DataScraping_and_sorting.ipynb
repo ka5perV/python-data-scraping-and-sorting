{
 "cells": [
  {
   "cell_type": "code",
   "execution_count": 501,
   "id": "ad2f77a1-1540-42b8-818f-2f20cf3a5726",
   "metadata": {},
   "outputs": [],
   "source": [
    "import pandas as pd\n",
    "import requests\n",
    "from bs4 import BeautifulSoup as bs\n",
    "from IPython.core.display import HTML\n",
    "import re\n",
    "from datetime import date"
   ]
  },
  {
   "cell_type": "markdown",
   "id": "fe809fb9-c983-44e6-aacd-715cf612320a",
   "metadata": {},
   "source": [
    "### First, I extract the relevant section of the page and use it as a basis to determine what information I need and what the attribute names are"
   ]
  },
  {
   "cell_type": "code",
   "execution_count": 436,
   "id": "768da8f0-9cee-4934-a22e-7987f18c5aea",
   "metadata": {
    "collapsed": true,
    "jupyter": {
     "outputs_hidden": true
    },
    "scrolled": true
   },
   "outputs": [
    {
     "name": "stdout",
     "output_type": "stream",
     "text": [
      "<div class=\"responsive_search_name_combined\">\n",
      " <div class=\"col search_name ellipsis\">\n",
      "  <span class=\"title\">\n",
      "   UNCHARTED™: Legacy of Thieves Collection\n",
      "  </span>\n",
      "  <div>\n",
      "   <span class=\"platform_img win\">\n",
      "   </span>\n",
      "  </div>\n",
      " </div>\n",
      " <div class=\"col search_released responsive_secondrow\">\n",
      "  19 Oct, 2022\n",
      " </div>\n",
      " <div class=\"col search_reviewscore responsive_secondrow\">\n",
      "  <span class=\"search_review_summary positive\" data-tooltip-html=\"Very Positive&lt;br&gt;89% of the 15,382 user reviews for this game are positive.\">\n",
      "  </span>\n",
      " </div>\n",
      " <div class=\"col search_price_discount_combined responsive_secondrow\" data-price-final=\"1999\">\n",
      "  <div class=\"col search_discount_and_price responsive_secondrow\">\n",
      "   <div aria-label=\"60% off. 49,99€ normally, discounted to 19,99€\" class=\"discount_block search_discount_block\" data-bundlediscount=\"0\" data-discount=\"60\" data-price-final=\"1999\" role=\"link\">\n",
      "    <div class=\"discount_pct\">\n",
      "     -60%\n",
      "    </div>\n",
      "    <div class=\"discount_prices\">\n",
      "     <div class=\"discount_original_price\">\n",
      "      49,99€\n",
      "     </div>\n",
      "     <div class=\"discount_final_price\">\n",
      "      19,99€\n",
      "     </div>\n",
      "    </div>\n",
      "   </div>\n",
      "  </div>\n",
      " </div>\n",
      "</div>\n",
      "\n"
     ]
    }
   ],
   "source": [
    "res = requests.get(\"https://store.steampowered.com/search/?specials=1&page=1\")\n",
    "today = date.today()\n",
    "soup = bs(res.text)\n",
    "\n",
    "games = soup.find_all(class_=\"responsive_search_name_combined\")\n",
    "\n",
    "HTML(str([row for row in games]))\n",
    "games_list = [row for row in games]\n",
    "\n",
    "print(games_list[0].prettify())\n",
    "\n"
   ]
  },
  {
   "cell_type": "markdown",
   "id": "2d5ee118-02bb-4db1-af63-e5c86e292337",
   "metadata": {},
   "source": [
    "### In this function we extract the ratings.\n",
    "Using regex isn't the most intuitive approach, but I managed to make it work."
   ]
  },
  {
   "cell_type": "code",
   "execution_count": 465,
   "id": "861a9197-3701-4ac9-bfb7-12d30898eb5c",
   "metadata": {
    "collapsed": true,
    "jupyter": {
     "outputs_hidden": true
    },
    "scrolled": true
   },
   "outputs": [
    {
     "data": {
      "text/plain": [
       "['95%',\n",
       " '69%',\n",
       " '72%',\n",
       " '93%',\n",
       " '95%',\n",
       " '92%',\n",
       " '91%',\n",
       " '78%',\n",
       " '87%',\n",
       " '97%',\n",
       " '85%',\n",
       " '90%',\n",
       " 'N/A',\n",
       " '76%',\n",
       " '73%',\n",
       " '88%',\n",
       " '66%',\n",
       " '88%',\n",
       " '81%',\n",
       " '88%',\n",
       " '74%',\n",
       " '52%',\n",
       " '91%',\n",
       " '74%',\n",
       " '79%']"
      ]
     },
     "execution_count": 465,
     "metadata": {},
     "output_type": "execute_result"
    }
   ],
   "source": [
    "def ratings():\n",
    "    ratings_list = []\n",
    "    for game in games: \n",
    "        try:\n",
    "            rating = game.find(class_=\"col search_reviewscore responsive_secondrow\") #The class that contains the reviews.\n",
    "            rating = rating.find(\"span\").get(\"data-tooltip-html\") #The span element with the class \"review\" or the data-tooltip attribute contains the review information. \n",
    "            pre = re.search(r'(\\d+%)', rating) #One or more digits after the percentage symbol.\n",
    "            if pre:\n",
    "                ratings_list.append(pre.group(1))\n",
    "            else:\n",
    "                ratings_list.append(\"N/A\")\n",
    "        except AttributeError:\n",
    "            ratings_list.append(\"N/A\")\n",
    "    return ratings_list\n",
    "ratings()"
   ]
  },
  {
   "cell_type": "markdown",
   "id": "a2739d26-3805-48d8-8f27-81bf6a902dbc",
   "metadata": {},
   "source": [
    "### This function retrieves the supported OS platforms for each game. This took me a while to get it working.\n",
    " I initially thought it was overly complex, but in the end, it was just a matter of using a few for loops. The biggest challenge was figuring out how to separate the different OS names into their respective lists."
   ]
  },
  {
   "cell_type": "code",
   "execution_count": 504,
   "id": "be0c205a-d7ad-4329-a0a1-2c618119ff1c",
   "metadata": {},
   "outputs": [
    {
     "data": {
      "text/plain": [
       "[0, 0, 1, 0, 1, 0, 0, 0, 1, 0, 1, 0, 0, 0, 1, 1, 0, 1, 1, 1, 0, 0, 0, 0, 0]"
      ]
     },
     "execution_count": 504,
     "metadata": {},
     "output_type": "execute_result"
    }
   ],
   "source": [
    "def osCheck(oss):\n",
    "    win = []\n",
    "\n",
    "    for game in games:\n",
    "        os = game.find(\"div\").find_all(\"span\", class_=\"platform_img\") #The spans with the class platform_img\n",
    "        game_win = 0 # default 0\n",
    "        \n",
    "        for span in os:\n",
    "            class_list = span.get(\"class\", [])\n",
    "            if oss in class_list: #If the OS name matches the class name in the platform_img class, \"os\".\n",
    "                game_win = 1\n",
    "        \n",
    "        win.append(game_win)\n",
    "  \n",
    "    return win\n",
    "osCheck(\"mac\") #win mac linux\n"
   ]
  },
  {
   "cell_type": "markdown",
   "id": "ef1095e6-0e07-4f58-a638-40d68ec274e6",
   "metadata": {},
   "source": [
    "### We extract the reviews.\n",
    "The regex was tricky, but I got some help to make it work."
   ]
  },
  {
   "cell_type": "code",
   "execution_count": 463,
   "id": "ed8cce56-7e39-4b78-a1be-1264e5318098",
   "metadata": {
    "collapsed": true,
    "jupyter": {
     "outputs_hidden": true
    }
   },
   "outputs": [
    {
     "data": {
      "text/plain": [
       "['93,393',\n",
       " '559',\n",
       " '2,300',\n",
       " '81,622',\n",
       " '35,253',\n",
       " '206,625',\n",
       " '591,533',\n",
       " '47',\n",
       " '18,209',\n",
       " '11,378',\n",
       " '773',\n",
       " '48,549',\n",
       " 'N/A',\n",
       " '3,209',\n",
       " '1,369',\n",
       " '144,294',\n",
       " '12,963',\n",
       " '87,802',\n",
       " '7,516',\n",
       " '4,112',\n",
       " '85,297',\n",
       " '1,614',\n",
       " '3,991',\n",
       " '2,994',\n",
       " '14,689']"
      ]
     },
     "execution_count": 463,
     "metadata": {},
     "output_type": "execute_result"
    }
   ],
   "source": [
    "def reviewCount():\n",
    "    ratings_list = []\n",
    "    for game in games:\n",
    "        try:\n",
    "            rating = game.find(class_=\"col search_reviewscore responsive_secondrow\") #The class that contains the reviews.\n",
    "            rating = rating.find(\"span\").get(\"data-tooltip-html\") #The span element with the class \"review\" or the data-tooltip attribute contains the review information.\n",
    "            revCount = re.search(r'the (\\d{1,3}(?:,\\d{3})*) user reviews', rating)\n",
    "            if revCount:\n",
    "                ratings_list.append(revCount.group(1))\n",
    "            else:\n",
    "                ratings_list.append(\"N/A\")\n",
    "        except AttributeError:\n",
    "            ratings_list.append(\"N/A\")\n",
    "    return ratings_list\n",
    "reviewCount()"
   ]
  },
  {
   "cell_type": "markdown",
   "id": "189644c0-371f-4b6a-ba7a-1b9b47f9cb35",
   "metadata": {},
   "source": [
    "### Here we bring everything together and write the data to a CSV file.\n"
   ]
  },
  {
   "cell_type": "code",
   "execution_count": 503,
   "id": "823f426b-3cf5-452d-9813-cd04063b7749",
   "metadata": {},
   "outputs": [
    {
     "name": "stdout",
     "output_type": "stream",
     "text": [
      "csv. created\n",
      "                                   Spelnamn Rating #Reviews Rabatt%    Pris  \\\n",
      "0  UNCHARTED™: Legacy of Thieves Collection    89%   15,385    -60%  19,99€   \n",
      "1                         Hearts of Iron IV    91%  224,247    -70%  14,99€   \n",
      "2                          EA SPORTS FC™ 25    45%   22,763    -50%  34,99€   \n",
      "\n",
      "  OrdinariePris  Utgivningsår  Win  Lin  OSX         Tid  \n",
      "0        49,99€  19 Oct, 2022    1    0    0  27/11/2024  \n",
      "1        49,99€   9 Apr, 2024    1    1    1  27/11/2024  \n",
      "2        69,99€  26 Sep, 2024    1    0    0  27/11/2024  \n",
      "\u001b[1m \n",
      " \n",
      " top 3 /\\  sista 3 \\/ \u001b[0m\n",
      "                             Spelnamn Rating #Reviews Rabatt%    Pris  \\\n",
      "122                      HoT Potatoes    96%  105,751     N/A  10,48€   \n",
      "123                  ICBM: Escalation    88%      302    -10%  26,09€   \n",
      "124  Master of Magic Classic Complete    95%      709     N/A  11,03€   \n",
      "\n",
      "    OrdinariePris  Utgivningsår  Win  Lin  OSX         Tid  \n",
      "122           N/A                  1    0    0  27/11/2024  \n",
      "123        28,99€  21 Nov, 2024    1    0    0  27/11/2024  \n",
      "124           N/A                  1    0    0  27/11/2024  \n"
     ]
    },
    {
     "data": {
      "text/html": [
       "<div>\n",
       "<style scoped>\n",
       "    .dataframe tbody tr th:only-of-type {\n",
       "        vertical-align: middle;\n",
       "    }\n",
       "\n",
       "    .dataframe tbody tr th {\n",
       "        vertical-align: top;\n",
       "    }\n",
       "\n",
       "    .dataframe thead th {\n",
       "        text-align: right;\n",
       "    }\n",
       "</style>\n",
       "<table border=\"1\" class=\"dataframe\">\n",
       "  <thead>\n",
       "    <tr style=\"text-align: right;\">\n",
       "      <th></th>\n",
       "      <th>Win</th>\n",
       "      <th>Lin</th>\n",
       "      <th>OSX</th>\n",
       "    </tr>\n",
       "  </thead>\n",
       "  <tbody>\n",
       "    <tr>\n",
       "      <th>count</th>\n",
       "      <td>125.0</td>\n",
       "      <td>125.0000</td>\n",
       "      <td>125.000000</td>\n",
       "    </tr>\n",
       "    <tr>\n",
       "      <th>mean</th>\n",
       "      <td>1.0</td>\n",
       "      <td>0.2240</td>\n",
       "      <td>0.288000</td>\n",
       "    </tr>\n",
       "    <tr>\n",
       "      <th>std</th>\n",
       "      <td>0.0</td>\n",
       "      <td>0.4186</td>\n",
       "      <td>0.454653</td>\n",
       "    </tr>\n",
       "    <tr>\n",
       "      <th>min</th>\n",
       "      <td>1.0</td>\n",
       "      <td>0.0000</td>\n",
       "      <td>0.000000</td>\n",
       "    </tr>\n",
       "    <tr>\n",
       "      <th>25%</th>\n",
       "      <td>1.0</td>\n",
       "      <td>0.0000</td>\n",
       "      <td>0.000000</td>\n",
       "    </tr>\n",
       "    <tr>\n",
       "      <th>50%</th>\n",
       "      <td>1.0</td>\n",
       "      <td>0.0000</td>\n",
       "      <td>0.000000</td>\n",
       "    </tr>\n",
       "    <tr>\n",
       "      <th>75%</th>\n",
       "      <td>1.0</td>\n",
       "      <td>0.0000</td>\n",
       "      <td>1.000000</td>\n",
       "    </tr>\n",
       "    <tr>\n",
       "      <th>max</th>\n",
       "      <td>1.0</td>\n",
       "      <td>1.0000</td>\n",
       "      <td>1.000000</td>\n",
       "    </tr>\n",
       "  </tbody>\n",
       "</table>\n",
       "</div>"
      ],
      "text/plain": [
       "         Win       Lin         OSX\n",
       "count  125.0  125.0000  125.000000\n",
       "mean     1.0    0.2240    0.288000\n",
       "std      0.0    0.4186    0.454653\n",
       "min      1.0    0.0000    0.000000\n",
       "25%      1.0    0.0000    0.000000\n",
       "50%      1.0    0.0000    0.000000\n",
       "75%      1.0    0.0000    1.000000\n",
       "max      1.0    1.0000    1.000000"
      ]
     },
     "execution_count": 503,
     "metadata": {},
     "output_type": "execute_result"
    }
   ],
   "source": [
    "page = 1\n",
    "df = pd.DataFrame()\n",
    "\n",
    "for page in range(1, 6):\n",
    "   \n",
    "    res = requests.get(f\"https://store.steampowered.com/search/?specials=1&page={page}\")\n",
    "    today = date.today()\n",
    "    soup = bs(res.text)\n",
    "    \n",
    "    games = soup.find_all(class_=\"responsive_search_name_combined\") #The element that contains the game information.\n",
    "    \n",
    "    title = [game.find(class_=\"title\").text.strip() for game in games if game.find(class_=\"title\")]\n",
    "    rating = ratings()\n",
    "    review = reviewCount() \n",
    "    sale = [game.find(class_=\"discount_pct\").text.strip() if game.find(class_=\"discount_pct\") else 'N/A' for game in games] \n",
    "    price = [game.find(class_=\"discount_final_price\").text.strip() if game.find(class_=\"discount_final_price\") else 'N/A' for game in games] \n",
    "    normal_price = [game.find(class_=\"discount_original_price\").text.strip() if game.find(class_=\"discount_original_price\") else 'N/A' for game in games]\n",
    "    release = [game.find(class_=\"col search_released responsive_secondrow\").text.strip() if game.find(class_=\"col search_released responsive_secondrow\") else 'N/A' for game in games]\n",
    "    win = osCheck(\"win\")\n",
    "    lin = osCheck(\"linux\")\n",
    "    osx = osCheck(\"mac\") \n",
    "    time = today.strftime(\"%d/%m/%Y\") #format the time correctly\n",
    "      \n",
    "    data = {\n",
    "        'Spelnamn': title,\n",
    "        'Rating': rating,\n",
    "        '#Reviews': review,\n",
    "        'Rabatt%': sale,\n",
    "        'Pris': price,\n",
    "        'OrdinariePris': normal_price,\n",
    "        'Utgivningsår': release,\n",
    "        'Win': win,\n",
    "        'Lin': lin,\n",
    "        'OSX': osx,\n",
    "        'Tid': time,\n",
    "    }\n",
    "    page_df = pd.DataFrame(data)\n",
    " \n",
    "    df = pd.concat([df, page_df], ignore_index=True)\n",
    "\n",
    "df.to_csv('out.csv', index=False)\n",
    "print(\"csv. created\")\n",
    "\n",
    "    \n",
    "print(df.head(3))\n",
    "print(\"\\033[1m \\n \\n top 3 /\\  sista 3 \\/ \\033[0m\")\n",
    "print(df.tail(3))\n"
   ]
  },
  {
   "cell_type": "code",
   "execution_count": null,
   "id": "6b433777-a76a-42eb-bb9c-278f63d18331",
   "metadata": {},
   "outputs": [],
   "source": []
  }
 ],
 "metadata": {
  "kernelspec": {
   "display_name": "Python 3 (ipykernel)",
   "language": "python",
   "name": "python3"
  },
  "language_info": {
   "codemirror_mode": {
    "name": "ipython",
    "version": 3
   },
   "file_extension": ".py",
   "mimetype": "text/x-python",
   "name": "python",
   "nbconvert_exporter": "python",
   "pygments_lexer": "ipython3",
   "version": "3.11.9"
  }
 },
 "nbformat": 4,
 "nbformat_minor": 5
}
